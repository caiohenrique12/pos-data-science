{
 "cells": [
  {
   "cell_type": "code",
   "execution_count": 1,
   "metadata": {},
   "outputs": [],
   "source": [
    "import pandas as pd\n",
    "from datetime import datetime\n",
    "import matplotlib.pyplot as plt\n",
    "import seaborn as sns\n",
    "\n",
    "sns.set()"
   ]
  },
  {
   "cell_type": "markdown",
   "metadata": {},
   "source": [
    "## 1) Faça a leitura do arquivo csv de nome amazonia.csv."
   ]
  },
  {
   "cell_type": "code",
   "execution_count": 2,
   "metadata": {},
   "outputs": [
    {
     "data": {
      "text/html": [
       "<div>\n",
       "<style scoped>\n",
       "    .dataframe tbody tr th:only-of-type {\n",
       "        vertical-align: middle;\n",
       "    }\n",
       "\n",
       "    .dataframe tbody tr th {\n",
       "        vertical-align: top;\n",
       "    }\n",
       "\n",
       "    .dataframe thead th {\n",
       "        text-align: right;\n",
       "    }\n",
       "</style>\n",
       "<table border=\"1\" class=\"dataframe\">\n",
       "  <thead>\n",
       "    <tr style=\"text-align: right;\">\n",
       "      <th></th>\n",
       "      <th>year</th>\n",
       "      <th>state</th>\n",
       "      <th>month</th>\n",
       "      <th>number</th>\n",
       "      <th>date</th>\n",
       "    </tr>\n",
       "  </thead>\n",
       "  <tbody>\n",
       "    <tr>\n",
       "      <td>0</td>\n",
       "      <td>1998</td>\n",
       "      <td>Acre</td>\n",
       "      <td>Janeiro</td>\n",
       "      <td>0.0</td>\n",
       "      <td>1998-01-01</td>\n",
       "    </tr>\n",
       "    <tr>\n",
       "      <td>1</td>\n",
       "      <td>1999</td>\n",
       "      <td>Acre</td>\n",
       "      <td>Janeiro</td>\n",
       "      <td>0.0</td>\n",
       "      <td>1999-01-01</td>\n",
       "    </tr>\n",
       "    <tr>\n",
       "      <td>2</td>\n",
       "      <td>2000</td>\n",
       "      <td>Acre</td>\n",
       "      <td>Janeiro</td>\n",
       "      <td>0.0</td>\n",
       "      <td>2000-01-01</td>\n",
       "    </tr>\n",
       "    <tr>\n",
       "      <td>3</td>\n",
       "      <td>2001</td>\n",
       "      <td>Acre</td>\n",
       "      <td>Janeiro</td>\n",
       "      <td>0.0</td>\n",
       "      <td>2001-01-01</td>\n",
       "    </tr>\n",
       "    <tr>\n",
       "      <td>4</td>\n",
       "      <td>2002</td>\n",
       "      <td>Acre</td>\n",
       "      <td>Janeiro</td>\n",
       "      <td>0.0</td>\n",
       "      <td>2002-01-01</td>\n",
       "    </tr>\n",
       "  </tbody>\n",
       "</table>\n",
       "</div>"
      ],
      "text/plain": [
       "   year state    month  number        date\n",
       "0  1998  Acre  Janeiro     0.0  1998-01-01\n",
       "1  1999  Acre  Janeiro     0.0  1999-01-01\n",
       "2  2000  Acre  Janeiro     0.0  2000-01-01\n",
       "3  2001  Acre  Janeiro     0.0  2001-01-01\n",
       "4  2002  Acre  Janeiro     0.0  2002-01-01"
      ]
     },
     "execution_count": 2,
     "metadata": {},
     "output_type": "execute_result"
    }
   ],
   "source": [
    "df = pd.read_csv('amazonia.csv', encoding=\"ISO-8859-1\")\n",
    "df.head()"
   ]
  },
  {
   "cell_type": "markdown",
   "metadata": {},
   "source": [
    "## 2) Imprima na tela o cabeçalho do csv informando quais atributos são utilizados."
   ]
  },
  {
   "cell_type": "code",
   "execution_count": 3,
   "metadata": {},
   "outputs": [
    {
     "name": "stdout",
     "output_type": "stream",
     "text": [
      "<class 'pandas.core.frame.DataFrame'>\n",
      "RangeIndex: 6454 entries, 0 to 6453\n",
      "Data columns (total 5 columns):\n",
      "year      6454 non-null int64\n",
      "state     6454 non-null object\n",
      "month     6454 non-null object\n",
      "number    6454 non-null float64\n",
      "date      6454 non-null object\n",
      "dtypes: float64(1), int64(1), object(3)\n",
      "memory usage: 252.2+ KB\n"
     ]
    }
   ],
   "source": [
    "df.info()"
   ]
  },
  {
   "cell_type": "markdown",
   "metadata": {},
   "source": [
    "#### Convertendo coluna 'date' do tipo object para 'date', 'state' e 'month' para string"
   ]
  },
  {
   "cell_type": "code",
   "execution_count": 4,
   "metadata": {},
   "outputs": [
    {
     "name": "stdout",
     "output_type": "stream",
     "text": [
      "<class 'pandas.core.frame.DataFrame'>\n",
      "RangeIndex: 6454 entries, 0 to 6453\n",
      "Data columns (total 5 columns):\n",
      "year      6454 non-null int64\n",
      "state     6454 non-null object\n",
      "month     6454 non-null object\n",
      "number    6454 non-null float64\n",
      "date      6454 non-null datetime64[ns]\n",
      "dtypes: datetime64[ns](1), float64(1), int64(1), object(2)\n",
      "memory usage: 252.2+ KB\n"
     ]
    }
   ],
   "source": [
    "df['state'] = df['state'].astype(str)\n",
    "df['month'] = df['month'].astype(str)\n",
    "df['date'] = df['date'].apply(lambda x: datetime.strptime(x, '%Y-%m-%d'))\n",
    "df.info()"
   ]
  },
  {
   "cell_type": "markdown",
   "metadata": {},
   "source": [
    "## 3) Verifique a existência de nulos no dataset, caso exista informe qual a quantidade e a coluna específica. Caso seja necessário realize a remoção. Utilize do heatmap que usamos em sala de aula."
   ]
  },
  {
   "cell_type": "code",
   "execution_count": 5,
   "metadata": {},
   "outputs": [
    {
     "data": {
      "text/html": [
       "<div>\n",
       "<style scoped>\n",
       "    .dataframe tbody tr th:only-of-type {\n",
       "        vertical-align: middle;\n",
       "    }\n",
       "\n",
       "    .dataframe tbody tr th {\n",
       "        vertical-align: top;\n",
       "    }\n",
       "\n",
       "    .dataframe thead th {\n",
       "        text-align: right;\n",
       "    }\n",
       "</style>\n",
       "<table border=\"1\" class=\"dataframe\">\n",
       "  <thead>\n",
       "    <tr style=\"text-align: right;\">\n",
       "      <th></th>\n",
       "      <th>year</th>\n",
       "      <th>state</th>\n",
       "      <th>month</th>\n",
       "      <th>number</th>\n",
       "      <th>date</th>\n",
       "    </tr>\n",
       "  </thead>\n",
       "  <tbody>\n",
       "    <tr>\n",
       "      <td>Type</td>\n",
       "      <td>int64</td>\n",
       "      <td>object</td>\n",
       "      <td>object</td>\n",
       "      <td>float64</td>\n",
       "      <td>datetime64[ns]</td>\n",
       "    </tr>\n",
       "    <tr>\n",
       "      <td>null values</td>\n",
       "      <td>0</td>\n",
       "      <td>0</td>\n",
       "      <td>0</td>\n",
       "      <td>0</td>\n",
       "      <td>0</td>\n",
       "    </tr>\n",
       "    <tr>\n",
       "      <td>null values (%)</td>\n",
       "      <td>0</td>\n",
       "      <td>0</td>\n",
       "      <td>0</td>\n",
       "      <td>0</td>\n",
       "      <td>0</td>\n",
       "    </tr>\n",
       "  </tbody>\n",
       "</table>\n",
       "</div>"
      ],
      "text/plain": [
       "                  year   state   month   number            date\n",
       "Type             int64  object  object  float64  datetime64[ns]\n",
       "null values          0       0       0        0               0\n",
       "null values (%)      0       0       0        0               0"
      ]
     },
     "execution_count": 5,
     "metadata": {},
     "output_type": "execute_result"
    }
   ],
   "source": [
    "info_df = pd.DataFrame(df.dtypes).T.rename(index={0: 'Type'})\n",
    "info_df = info_df.append(pd.DataFrame(df.isnull().sum()).T.rename(index={0: 'null values'}))\n",
    "info_df = info_df.append(pd.DataFrame(df.isnull().sum()/df.shape[0]*100).T.rename(index={0: 'null values (%)'}))\n",
    "info_df"
   ]
  },
  {
   "cell_type": "markdown",
   "metadata": {},
   "source": [
    "## 4) Verifique a existência de duplicados no dataset, caso exista informe qual a quantidade e a coluna específica. Caso seja necessário realize a remoção."
   ]
  },
  {
   "cell_type": "code",
   "execution_count": 6,
   "metadata": {},
   "outputs": [
    {
     "data": {
      "text/plain": [
       "year      32\n",
       "state     32\n",
       "month     32\n",
       "number    32\n",
       "date      32\n",
       "dtype: int64"
      ]
     },
     "execution_count": 6,
     "metadata": {},
     "output_type": "execute_result"
    }
   ],
   "source": [
    "df[df.duplicated()].count()"
   ]
  },
  {
   "cell_type": "code",
   "execution_count": 7,
   "metadata": {},
   "outputs": [
    {
     "data": {
      "text/plain": [
       "year      0\n",
       "state     0\n",
       "month     0\n",
       "number    0\n",
       "date      0\n",
       "dtype: int64"
      ]
     },
     "execution_count": 7,
     "metadata": {},
     "output_type": "execute_result"
    }
   ],
   "source": [
    "df = df.drop_duplicates()\n",
    "df[df.duplicated()].count()"
   ]
  },
  {
   "cell_type": "markdown",
   "metadata": {},
   "source": [
    "#### Para ajudar nas análises e ganhar tempo, irei criar uma nova variavel para receber o dataframe formatado"
   ]
  },
  {
   "cell_type": "code",
   "execution_count": 8,
   "metadata": {},
   "outputs": [],
   "source": [
    "df_formated = df"
   ]
  },
  {
   "cell_type": "markdown",
   "metadata": {},
   "source": [
    "## 5) Identifique a quantidade de anos distintos há no dataset"
   ]
  },
  {
   "cell_type": "code",
   "execution_count": 9,
   "metadata": {},
   "outputs": [
    {
     "data": {
      "text/plain": [
       "array([1998, 1999, 2000, 2001, 2002, 2003, 2004, 2005, 2006, 2007, 2008,\n",
       "       2009, 2010, 2011, 2012, 2013, 2014, 2015, 2016, 2017])"
      ]
     },
     "execution_count": 9,
     "metadata": {},
     "output_type": "execute_result"
    }
   ],
   "source": [
    "df_formated.year.unique()"
   ]
  },
  {
   "cell_type": "markdown",
   "metadata": {},
   "source": [
    "## 6) Identifique quantos estados tiveram problemas com incêndios"
   ]
  },
  {
   "cell_type": "code",
   "execution_count": 10,
   "metadata": {},
   "outputs": [
    {
     "data": {
      "text/html": [
       "<div>\n",
       "<style scoped>\n",
       "    .dataframe tbody tr th:only-of-type {\n",
       "        vertical-align: middle;\n",
       "    }\n",
       "\n",
       "    .dataframe tbody tr th {\n",
       "        vertical-align: top;\n",
       "    }\n",
       "\n",
       "    .dataframe thead th {\n",
       "        text-align: right;\n",
       "    }\n",
       "</style>\n",
       "<table border=\"1\" class=\"dataframe\">\n",
       "  <thead>\n",
       "    <tr style=\"text-align: right;\">\n",
       "      <th></th>\n",
       "      <th>year</th>\n",
       "      <th>state</th>\n",
       "      <th>month</th>\n",
       "      <th>number</th>\n",
       "      <th>date</th>\n",
       "    </tr>\n",
       "  </thead>\n",
       "  <tbody>\n",
       "    <tr>\n",
       "      <td>0</td>\n",
       "      <td>1998</td>\n",
       "      <td>Acre</td>\n",
       "      <td>Janeiro</td>\n",
       "      <td>0.0</td>\n",
       "      <td>1998-01-01</td>\n",
       "    </tr>\n",
       "    <tr>\n",
       "      <td>1</td>\n",
       "      <td>1999</td>\n",
       "      <td>Acre</td>\n",
       "      <td>Janeiro</td>\n",
       "      <td>0.0</td>\n",
       "      <td>1999-01-01</td>\n",
       "    </tr>\n",
       "    <tr>\n",
       "      <td>2</td>\n",
       "      <td>2000</td>\n",
       "      <td>Acre</td>\n",
       "      <td>Janeiro</td>\n",
       "      <td>0.0</td>\n",
       "      <td>2000-01-01</td>\n",
       "    </tr>\n",
       "    <tr>\n",
       "      <td>3</td>\n",
       "      <td>2001</td>\n",
       "      <td>Acre</td>\n",
       "      <td>Janeiro</td>\n",
       "      <td>0.0</td>\n",
       "      <td>2001-01-01</td>\n",
       "    </tr>\n",
       "    <tr>\n",
       "      <td>4</td>\n",
       "      <td>2002</td>\n",
       "      <td>Acre</td>\n",
       "      <td>Janeiro</td>\n",
       "      <td>0.0</td>\n",
       "      <td>2002-01-01</td>\n",
       "    </tr>\n",
       "    <tr>\n",
       "      <td>...</td>\n",
       "      <td>...</td>\n",
       "      <td>...</td>\n",
       "      <td>...</td>\n",
       "      <td>...</td>\n",
       "      <td>...</td>\n",
       "    </tr>\n",
       "    <tr>\n",
       "      <td>95</td>\n",
       "      <td>2013</td>\n",
       "      <td>Acre</td>\n",
       "      <td>Maio</td>\n",
       "      <td>4.0</td>\n",
       "      <td>2013-01-01</td>\n",
       "    </tr>\n",
       "    <tr>\n",
       "      <td>96</td>\n",
       "      <td>2014</td>\n",
       "      <td>Acre</td>\n",
       "      <td>Maio</td>\n",
       "      <td>1.0</td>\n",
       "      <td>2014-01-01</td>\n",
       "    </tr>\n",
       "    <tr>\n",
       "      <td>97</td>\n",
       "      <td>2015</td>\n",
       "      <td>Acre</td>\n",
       "      <td>Maio</td>\n",
       "      <td>2.0</td>\n",
       "      <td>2015-01-01</td>\n",
       "    </tr>\n",
       "    <tr>\n",
       "      <td>98</td>\n",
       "      <td>2016</td>\n",
       "      <td>Acre</td>\n",
       "      <td>Maio</td>\n",
       "      <td>21.0</td>\n",
       "      <td>2016-01-01</td>\n",
       "    </tr>\n",
       "    <tr>\n",
       "      <td>99</td>\n",
       "      <td>2017</td>\n",
       "      <td>Acre</td>\n",
       "      <td>Maio</td>\n",
       "      <td>10.0</td>\n",
       "      <td>2017-01-01</td>\n",
       "    </tr>\n",
       "  </tbody>\n",
       "</table>\n",
       "<p>100 rows × 5 columns</p>\n",
       "</div>"
      ],
      "text/plain": [
       "    year state    month  number       date\n",
       "0   1998  Acre  Janeiro     0.0 1998-01-01\n",
       "1   1999  Acre  Janeiro     0.0 1999-01-01\n",
       "2   2000  Acre  Janeiro     0.0 2000-01-01\n",
       "3   2001  Acre  Janeiro     0.0 2001-01-01\n",
       "4   2002  Acre  Janeiro     0.0 2002-01-01\n",
       "..   ...   ...      ...     ...        ...\n",
       "95  2013  Acre     Maio     4.0 2013-01-01\n",
       "96  2014  Acre     Maio     1.0 2014-01-01\n",
       "97  2015  Acre     Maio     2.0 2015-01-01\n",
       "98  2016  Acre     Maio    21.0 2016-01-01\n",
       "99  2017  Acre     Maio    10.0 2017-01-01\n",
       "\n",
       "[100 rows x 5 columns]"
      ]
     },
     "execution_count": 10,
     "metadata": {},
     "output_type": "execute_result"
    }
   ],
   "source": [
    "df_formated.head(100)"
   ]
  },
  {
   "cell_type": "code",
   "execution_count": 11,
   "metadata": {},
   "outputs": [
    {
     "data": {
      "text/plain": [
       "state\n",
       "Rio                 697\n",
       "Mato Grosso         473\n",
       "Paraiba             472\n",
       "Tocantins           239\n",
       "Maranhao            239\n",
       "Alagoas             239\n",
       "Amapa               239\n",
       "Amazonas            239\n",
       "Bahia               239\n",
       "Ceara               239\n",
       "Distrito Federal    239\n",
       "Espirito Santo      239\n",
       "Goias               239\n",
       "Minas Gerais        239\n",
       "Sergipe             239\n",
       "Pará                239\n",
       "Pernambuco          239\n",
       "Piau                239\n",
       "Rondonia            239\n",
       "Roraima             239\n",
       "Santa Catarina      239\n",
       "Sao Paulo           239\n",
       "Acre                239\n",
       "Name: number, dtype: int64"
      ]
     },
     "execution_count": 11,
     "metadata": {},
     "output_type": "execute_result"
    }
   ],
   "source": [
    "states = df_formated.groupby(['state'])['number'].count()\n",
    "states.sort_values(ascending=False)"
   ]
  },
  {
   "cell_type": "markdown",
   "metadata": {},
   "source": [
    "## 7) Identifique se há concordância com o (mês,ano) exposto nas colunas e a respectiva coluna date. Caso não tenha, realize a remoção das discordâncias."
   ]
  },
  {
   "cell_type": "code",
   "execution_count": 205,
   "metadata": {},
   "outputs": [],
   "source": [
    "month_number = {\n",
    "    'Janeiro': 1,\n",
    "    'Fevereiro': 2,\n",
    "    'Março': 3,\n",
    "    'Abril': 4,\n",
    "    'Maio': 5,\n",
    "    'Junho': 6,\n",
    "    'Julho': 7,\n",
    "    'Agosto': 8,\n",
    "    'Setembro': 9,\n",
    "    'Outubro': 10,\n",
    "    'Novembro': 11,\n",
    "    'Dezembro': 12\n",
    "}\n",
    "\n",
    "# for item in [df_formated]:\n",
    "#     if item.year != item.date.year:\n",
    "#         print('okay')"
   ]
  },
  {
   "cell_type": "markdown",
   "metadata": {},
   "source": [
    "## 8) Crie um histograma do somatório de incêndios ano a ano"
   ]
  },
  {
   "cell_type": "code",
   "execution_count": 277,
   "metadata": {},
   "outputs": [
    {
     "name": "stdout",
     "output_type": "stream",
     "text": [
      "   index  year     number\n",
      "0      5  2003  42760.674\n",
      "1     18  2016  42212.229\n",
      "2     17  2015  41208.292\n",
      "3     14  2012  40084.860\n",
      "4     16  2014  39621.183\n"
     ]
    },
    {
     "data": {
      "image/png": "[encoded data removed]",
      "text/plain": [
       "<Figure size 432x288 with 5 Axes>"
      ]
     },
     "metadata": {},
     "output_type": "display_data"
    }
   ],
   "source": [
    "years_burn = df_formated.groupby(['year'])['number'].sum().reset_index()\n",
    "years_burn = years_burn.sort_values(['number'], ascending=False)\n",
    "years_burn_top10 = years_burn.iloc[:5]\n",
    "\n",
    "fig, axs = plt.subplots(1, len(years_burn_top10), sharey=True, tight_layout=True)\n",
    "\n",
    "for item in [years_burn_top10.reset_index()]:\n",
    "    print(item)\n",
    "#     axs[0].hist(years_burn_top10.loc[years_burn_top10.year == item.year]['number'])\n",
    "#     print(years_burn_top10.loc[years_burn_top10.year == item.year]['number'])\n",
    "\n",
    "\n",
    "# axs[0].hist(year1['number'])\n",
    "# axs[1].hist(year2['number'])\n",
    "# axs[2].hist(year3['number'])\n",
    "# plt.hist(year['number'], bins=20)\n",
    "# plt.xlabel('Label x')\n",
    "# plt.ylabel('Label y')\n",
    "# plt.show()"
   ]
  },
  {
   "cell_type": "markdown",
   "metadata": {},
   "source": [
    "## 9) Faça a distribuição da média de incêndios por mês e ilustre o resultado em um gráfico."
   ]
  },
  {
   "cell_type": "markdown",
   "metadata": {},
   "source": [
    "## 10) Identifique o ano com maior número de incêndios e o que possui menor registros de incêndios."
   ]
  },
  {
   "cell_type": "markdown",
   "metadata": {},
   "source": [
    "## 11)Realize agora a mesma distribuição mas por estado e identifique os estados que possuem um maior número de incêndios."
   ]
  },
  {
   "cell_type": "markdown",
   "metadata": {},
   "source": [
    "## 12) Para cada estado identifique quais são os meses que possuem um maior e menor número de incêndios, plote em um gráfico o resultado."
   ]
  },
  {
   "cell_type": "markdown",
   "metadata": {},
   "source": [
    "## 13)Crie um gráfico com a distribuição dos incidentes de incêndio por estado no decorrer dos anos."
   ]
  }
 ],
 "metadata": {
  "kernelspec": {
   "display_name": "Python 3",
   "language": "python",
   "name": "python3"
  },
  "language_info": {
   "codemirror_mode": {
    "name": "ipython",
    "version": 3
   },
   "file_extension": ".py",
   "mimetype": "text/x-python",
   "name": "python",
   "nbconvert_exporter": "python",
   "pygments_lexer": "ipython3",
   "version": "3.6.8"
  }
 },
 "nbformat": 4,
 "nbformat_minor": 2
}
